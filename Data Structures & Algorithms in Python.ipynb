{
 "cells": [
  {
   "cell_type": "markdown",
   "metadata": {},
   "source": [
    "# Chapter 1"
   ]
  },
  {
   "cell_type": "code",
   "execution_count": 1,
   "metadata": {},
   "outputs": [
    {
     "name": "stdout",
     "output_type": "stream",
     "text": [
      "Type your grade:a\n",
      "Type your grade:a\n",
      "Type your grade:c\n",
      "Type your grade:e\n",
      "Type your grade:\n",
      "_________________\n",
      "\n",
      "Your GPA is 3.0\n",
      "_________________\n"
     ]
    }
   ],
   "source": [
    "# Type your grades as A, B, C, D, E or F in upper case and press enter\n",
    "# Enter a blank line to exit and see your GPA\n",
    "\n",
    "points = {\"A\": 4.0, \"B\": 3.5, \"C\": 3.0, \"D\": 2.0, \"E\": 1.0, \"F\": 0.0}\n",
    "\n",
    "num_courses = 0\n",
    "total_points = 0\n",
    "isDone = False\n",
    "\n",
    "while not isDone:\n",
    "    grade = input('Type your grade:').upper()\n",
    "    if grade == '':\n",
    "        isDone = True\n",
    "    elif grade not in points:\n",
    "        print(\"Unknown grade {0} entered\".format(grade))\n",
    "    else:\n",
    "        num_courses += 1\n",
    "        total_points += points[grade]\n",
    "    \n",
    "if num_courses > 0:\n",
    "    print(\"_________________\")\n",
    "    print(\"\\nYour GPA is {0:.3}\".format(total_points/num_courses))\n",
    "    print(\"_________________\")\n",
    "    \n"
   ]
  },
  {
   "cell_type": "code",
   "execution_count": 2,
   "metadata": {},
   "outputs": [
    {
     "name": "stdout",
     "output_type": "stream",
     "text": [
      "***Identifiers pointing to the same object***\n",
      "temperature 98.6\n",
      "new_temp 98.6\n",
      "\n",
      "***Identifiers not pointing to the same object after reasignment***\n",
      "temperature 75\n",
      "new_temp 98.6\n",
      "temperature 75\n",
      "new_temp 198.6\n",
      "\n",
      "***Identifiers pointing to the same object***\n",
      "temperature 198.6\n",
      "new_temp 198.6\n"
     ]
    }
   ],
   "source": [
    "#Objects in Python\n",
    "\n",
    "temperature = 98.6\n",
    "new_temp = temperature\n",
    "\n",
    "print(\"***Identifiers pointing to the same object***\")\n",
    "print('temperature', temperature)\n",
    "print('new_temp', new_temp)\n",
    "\n",
    "#reasigning new_temp to a new value breaks the alias with temperature\n",
    "temperature = 75\n",
    "\n",
    "print(\"\\n***Identifiers not pointing to the same object after reasignment***\")\n",
    "print('temperature', temperature)\n",
    "print('new_temp', new_temp)\n",
    "\n",
    "new_temp = new_temp + 100\n",
    "\n",
    "print('temperature', temperature)\n",
    "print('new_temp', new_temp)\n",
    "\n",
    "temperature = new_temp\n",
    "\n",
    "print(\"\\n***Identifiers pointing to the same object***\")\n",
    "print('temperature', temperature)\n",
    "print('new_temp', new_temp)\n"
   ]
  },
  {
   "cell_type": "code",
   "execution_count": 11,
   "metadata": {},
   "outputs": [
    {
     "name": "stdout",
     "output_type": "stream",
     "text": [
      "alpha: [1, 2, 3]\n",
      "beta: [1, 2, 3]\n",
      "alpha obj id 4424378696\n",
      "beta obj id 4424378696\n",
      "alpha: [1, 2, 3, 4, 5]\n",
      "beta: [1, 2, 3, 4, 5]\n",
      "alpha: [1, 2, 3, 4, 5, 6, 7]\n",
      "beta: [1, 2, 3, 4, 5]\n",
      "alpha obj id 4424378568\n",
      "beta obj id 4424378696\n"
     ]
    }
   ],
   "source": [
    "alpha = [1, 2, 3]\n",
    "beta = alpha\n",
    "print('alpha:', alpha)\n",
    "print('beta:', beta)\n",
    "print('alpha obj id', id(alpha))\n",
    "print('beta obj id', id(beta))\n",
    "\n",
    "alpha += [4, 5] #updates same object \n",
    "print('alpha:', alpha)\n",
    "print('beta:', beta)\n",
    "\n",
    "alpha = alpha + [6, 7] #reassignment to different object\n",
    "print('alpha:', alpha)\n",
    "print('beta:', beta)\n",
    "print('alpha obj id', id(alpha))\n",
    "print('beta obj id', id(beta))\n"
   ]
  },
  {
   "cell_type": "code",
   "execution_count": null,
   "metadata": {
    "collapsed": true
   },
   "outputs": [],
   "source": []
  }
 ],
 "metadata": {
  "kernelspec": {
   "display_name": "Python 3",
   "language": "python",
   "name": "myenv"
  },
  "language_info": {
   "codemirror_mode": {
    "name": "ipython",
    "version": 3
   },
   "file_extension": ".py",
   "mimetype": "text/x-python",
   "name": "python",
   "nbconvert_exporter": "python",
   "pygments_lexer": "ipython3",
   "version": "3.6.4"
  }
 },
 "nbformat": 4,
 "nbformat_minor": 2
}
