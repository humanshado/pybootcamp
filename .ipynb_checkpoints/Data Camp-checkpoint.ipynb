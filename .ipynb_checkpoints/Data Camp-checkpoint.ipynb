{
 "cells": [
  {
   "cell_type": "markdown",
   "metadata": {},
   "source": [
    "Pandas Foundation"
   ]
  },
  {
   "cell_type": "code",
   "execution_count": 136,
   "metadata": {
    "scrolled": true
   },
   "outputs": [
    {
     "data": {
      "text/html": [
       "<div>\n",
       "<style scoped>\n",
       "    .dataframe tbody tr th:only-of-type {\n",
       "        vertical-align: middle;\n",
       "    }\n",
       "\n",
       "    .dataframe tbody tr th {\n",
       "        vertical-align: top;\n",
       "    }\n",
       "\n",
       "    .dataframe thead th {\n",
       "        text-align: right;\n",
       "    }\n",
       "</style>\n",
       "<table border=\"1\" class=\"dataframe\">\n",
       "  <thead>\n",
       "    <tr style=\"text-align: right;\">\n",
       "      <th></th>\n",
       "      <th>The following stock data was collect on 2016-AUG-25 from an unknown source</th>\n",
       "    </tr>\n",
       "  </thead>\n",
       "  <tbody>\n",
       "    <tr>\n",
       "      <th>0</th>\n",
       "      <td>These kind of ocmments are not very useful, ar...</td>\n",
       "    </tr>\n",
       "    <tr>\n",
       "      <th>1</th>\n",
       "      <td>probably should just throw this line away too,...</td>\n",
       "    </tr>\n",
       "    <tr>\n",
       "      <th>2</th>\n",
       "      <td>name Jan Feb Mar Apr May Jun Jul Aug Sep Oct N...</td>\n",
       "    </tr>\n",
       "    <tr>\n",
       "      <th>3</th>\n",
       "      <td># So that line you just read has all the colum...</td>\n",
       "    </tr>\n",
       "    <tr>\n",
       "      <th>4</th>\n",
       "      <td>IBM 156.08 160.01 159.81 165.22 172.25 167.15 ...</td>\n",
       "    </tr>\n",
       "    <tr>\n",
       "      <th>5</th>\n",
       "      <td>MSFT 45.51 43.08 42.13 43.47 47.53 45.96 45.61...</td>\n",
       "    </tr>\n",
       "    <tr>\n",
       "      <th>6</th>\n",
       "      <td># That MSFT is MicroSoft</td>\n",
       "    </tr>\n",
       "    <tr>\n",
       "      <th>7</th>\n",
       "      <td>GOOGLE 512.42 537.99 559.72 540.50 535.24 532....</td>\n",
       "    </tr>\n",
       "    <tr>\n",
       "      <th>8</th>\n",
       "      <td>APPLE 110.64 125.43 125.97 127.29 128.76 127.8...</td>\n",
       "    </tr>\n",
       "    <tr>\n",
       "      <th>9</th>\n",
       "      <td># Maybe we should have bought some Apple stock...</td>\n",
       "    </tr>\n",
       "  </tbody>\n",
       "</table>\n",
       "</div>"
      ],
      "text/plain": [
       "  The following stock data was collect on 2016-AUG-25 from an unknown source\n",
       "0  These kind of ocmments are not very useful, ar...                        \n",
       "1  probably should just throw this line away too,...                        \n",
       "2  name Jan Feb Mar Apr May Jun Jul Aug Sep Oct N...                        \n",
       "3  # So that line you just read has all the colum...                        \n",
       "4  IBM 156.08 160.01 159.81 165.22 172.25 167.15 ...                        \n",
       "5  MSFT 45.51 43.08 42.13 43.47 47.53 45.96 45.61...                        \n",
       "6                           # That MSFT is MicroSoft                        \n",
       "7  GOOGLE 512.42 537.99 559.72 540.50 535.24 532....                        \n",
       "8  APPLE 110.64 125.43 125.97 127.29 128.76 127.8...                        \n",
       "9  # Maybe we should have bought some Apple stock...                        "
      ]
     },
     "execution_count": 136,
     "metadata": {},
     "output_type": "execute_result"
    }
   ],
   "source": [
    "import numpy as np\n",
    "import pandas as pd\n",
    "\n",
    "stocks = pd.read_table('../dataBank/messy_stock_data.tsv')\n",
    "stocks"
   ]
  },
  {
   "cell_type": "code",
   "execution_count": 137,
   "metadata": {
    "collapsed": true
   },
   "outputs": [],
   "source": [
    "Month = stocks.values[2]\n",
    "IBM = stocks.values[4]\n",
    "MSFT = stocks.values[5]\n",
    "GOOGLE = stocks.values[7]\n",
    "APPLE = stocks.values[8]\n",
    "z_data = [Month,IBM,MSFT,GOOGLE,APPLE]"
   ]
  },
  {
   "cell_type": "code",
   "execution_count": 138,
   "metadata": {},
   "outputs": [],
   "source": [
    "def split_to_list(data):\n",
    "    b_arr = []\n",
    "    for arr in data:\n",
    "        for item in arr:\n",
    "            n_item = item.split(\" \")\n",
    "            b_arr.append(n_item)\n",
    "    return b_arr\n",
    "    \n",
    "df_list = split_to_list(z_data)"
   ]
  },
  {
   "cell_type": "code",
   "execution_count": 139,
   "metadata": {},
   "outputs": [
    {
     "data": {
      "text/plain": [
       "list"
      ]
     },
     "execution_count": 139,
     "metadata": {},
     "output_type": "execute_result"
    }
   ],
   "source": [
    "type(df_list)"
   ]
  },
  {
   "cell_type": "code",
   "execution_count": 140,
   "metadata": {},
   "outputs": [
    {
     "data": {
      "text/html": [
       "<div>\n",
       "<style scoped>\n",
       "    .dataframe tbody tr th:only-of-type {\n",
       "        vertical-align: middle;\n",
       "    }\n",
       "\n",
       "    .dataframe tbody tr th {\n",
       "        vertical-align: top;\n",
       "    }\n",
       "\n",
       "    .dataframe thead th {\n",
       "        text-align: right;\n",
       "    }\n",
       "</style>\n",
       "<table border=\"1\" class=\"dataframe\">\n",
       "  <thead>\n",
       "    <tr style=\"text-align: right;\">\n",
       "      <th></th>\n",
       "      <th>Jan</th>\n",
       "      <th>Feb</th>\n",
       "      <th>Mar</th>\n",
       "      <th>Apr</th>\n",
       "      <th>May</th>\n",
       "      <th>Jun</th>\n",
       "      <th>Jul</th>\n",
       "      <th>Aug</th>\n",
       "      <th>Sep</th>\n",
       "      <th>Oct</th>\n",
       "      <th>Nov</th>\n",
       "      <th>Dec</th>\n",
       "    </tr>\n",
       "    <tr>\n",
       "      <th>name</th>\n",
       "      <th></th>\n",
       "      <th></th>\n",
       "      <th></th>\n",
       "      <th></th>\n",
       "      <th></th>\n",
       "      <th></th>\n",
       "      <th></th>\n",
       "      <th></th>\n",
       "      <th></th>\n",
       "      <th></th>\n",
       "      <th></th>\n",
       "      <th></th>\n",
       "    </tr>\n",
       "  </thead>\n",
       "  <tbody>\n",
       "    <tr>\n",
       "      <th>IBM</th>\n",
       "      <td>156.08</td>\n",
       "      <td>160.01</td>\n",
       "      <td>159.81</td>\n",
       "      <td>165.22</td>\n",
       "      <td>172.25</td>\n",
       "      <td>167.15</td>\n",
       "      <td>164.75</td>\n",
       "      <td>152.77</td>\n",
       "      <td>145.36</td>\n",
       "      <td>146.11</td>\n",
       "      <td>137.21</td>\n",
       "      <td>137.96</td>\n",
       "    </tr>\n",
       "    <tr>\n",
       "      <th>MSFT</th>\n",
       "      <td>45.51</td>\n",
       "      <td>43.08</td>\n",
       "      <td>42.13</td>\n",
       "      <td>43.47</td>\n",
       "      <td>47.53</td>\n",
       "      <td>45.96</td>\n",
       "      <td>45.61</td>\n",
       "      <td>45.51</td>\n",
       "      <td>43.56</td>\n",
       "      <td>48.70</td>\n",
       "      <td>53.88</td>\n",
       "      <td>55.40</td>\n",
       "    </tr>\n",
       "    <tr>\n",
       "      <th>GOOGLE</th>\n",
       "      <td>512.42</td>\n",
       "      <td>537.99</td>\n",
       "      <td>559.72</td>\n",
       "      <td>540.50</td>\n",
       "      <td>535.24</td>\n",
       "      <td>532.92</td>\n",
       "      <td>590.09</td>\n",
       "      <td>636.84</td>\n",
       "      <td>617.93</td>\n",
       "      <td>663.59</td>\n",
       "      <td>735.39</td>\n",
       "      <td>755.35</td>\n",
       "    </tr>\n",
       "    <tr>\n",
       "      <th>APPLE</th>\n",
       "      <td>110.64</td>\n",
       "      <td>125.43</td>\n",
       "      <td>125.97</td>\n",
       "      <td>127.29</td>\n",
       "      <td>128.76</td>\n",
       "      <td>127.81</td>\n",
       "      <td>125.34</td>\n",
       "      <td>113.39</td>\n",
       "      <td>112.80</td>\n",
       "      <td>113.36</td>\n",
       "      <td>118.16</td>\n",
       "      <td>111.73</td>\n",
       "    </tr>\n",
       "  </tbody>\n",
       "</table>\n",
       "</div>"
      ],
      "text/plain": [
       "           Jan     Feb     Mar     Apr     May     Jun     Jul     Aug  \\\n",
       "name                                                                     \n",
       "IBM     156.08  160.01  159.81  165.22  172.25  167.15  164.75  152.77   \n",
       "MSFT     45.51   43.08   42.13   43.47   47.53   45.96   45.61   45.51   \n",
       "GOOGLE  512.42  537.99  559.72  540.50  535.24  532.92  590.09  636.84   \n",
       "APPLE   110.64  125.43  125.97  127.29  128.76  127.81  125.34  113.39   \n",
       "\n",
       "           Sep     Oct     Nov     Dec  \n",
       "name                                    \n",
       "IBM     145.36  146.11  137.21  137.96  \n",
       "MSFT     43.56   48.70   53.88   55.40  \n",
       "GOOGLE  617.93  663.59  735.39  755.35  \n",
       "APPLE   112.80  113.36  118.16  111.73  "
      ]
     },
     "execution_count": 140,
     "metadata": {},
     "output_type": "execute_result"
    }
   ],
   "source": [
    "df_stocks = pd.DataFrame(df_list[1:], columns=df_list[0]).set_index(['name'])\n",
    "df_stocks"
   ]
  },
  {
   "cell_type": "code",
   "execution_count": 141,
   "metadata": {},
   "outputs": [
    {
     "name": "stdout",
     "output_type": "stream",
     "text": [
      "<class 'pandas.core.frame.DataFrame'>\n",
      "Index: 4 entries, IBM to APPLE\n",
      "Data columns (total 12 columns):\n",
      "Jan    4 non-null object\n",
      "Feb    4 non-null object\n",
      "Mar    4 non-null object\n",
      "Apr    4 non-null object\n",
      "May    4 non-null object\n",
      "Jun    4 non-null object\n",
      "Jul    4 non-null object\n",
      "Aug    4 non-null object\n",
      "Sep    4 non-null object\n",
      "Oct    4 non-null object\n",
      "Nov    4 non-null object\n",
      "Dec    4 non-null object\n",
      "dtypes: object(12)\n",
      "memory usage: 416.0+ bytes\n"
     ]
    }
   ],
   "source": [
    "df_stocks.info() #all values are strings and need to be converted to float"
   ]
  },
  {
   "cell_type": "code",
   "execution_count": 142,
   "metadata": {},
   "outputs": [
    {
     "data": {
      "text/plain": [
       "name\n",
       "IBM       156.08\n",
       "MSFT       45.51\n",
       "GOOGLE    512.42\n",
       "APPLE     110.64\n",
       "Name: Jan, dtype: float64"
      ]
     },
     "execution_count": 142,
     "metadata": {},
     "output_type": "execute_result"
    }
   ],
   "source": [
    "df_stocks['Jan'].astype(float)"
   ]
  },
  {
   "cell_type": "code",
   "execution_count": 143,
   "metadata": {},
   "outputs": [
    {
     "name": "stdout",
     "output_type": "stream",
     "text": [
      "<class 'pandas.core.frame.DataFrame'>\n",
      "Index: 4 entries, IBM to APPLE\n",
      "Data columns (total 12 columns):\n",
      "Jan    4 non-null float64\n",
      "Feb    4 non-null float64\n",
      "Mar    4 non-null float64\n",
      "Apr    4 non-null float64\n",
      "May    4 non-null float64\n",
      "Jun    4 non-null float64\n",
      "Jul    4 non-null float64\n",
      "Aug    4 non-null float64\n",
      "Sep    4 non-null float64\n",
      "Oct    4 non-null float64\n",
      "Nov    4 non-null float64\n",
      "Dec    4 non-null float64\n",
      "dtypes: float64(12)\n",
      "memory usage: 576.0+ bytes\n"
     ]
    }
   ],
   "source": [
    "def str_to_float(df):\n",
    "    months = df.columns\n",
    "    for month in months:\n",
    "        df[month] = df[month].astype(float)\n",
    "    return df\n",
    "\n",
    "df_stocks = str_to_float(df_stocks)\n",
    "df_stocks.info()"
   ]
  },
  {
   "cell_type": "code",
   "execution_count": 161,
   "metadata": {},
   "outputs": [
    {
     "data": {
      "text/html": [
       "<div>\n",
       "<style scoped>\n",
       "    .dataframe tbody tr th:only-of-type {\n",
       "        vertical-align: middle;\n",
       "    }\n",
       "\n",
       "    .dataframe tbody tr th {\n",
       "        vertical-align: top;\n",
       "    }\n",
       "\n",
       "    .dataframe thead th {\n",
       "        text-align: right;\n",
       "    }\n",
       "</style>\n",
       "<table border=\"1\" class=\"dataframe\">\n",
       "  <thead>\n",
       "    <tr style=\"text-align: right;\">\n",
       "      <th></th>\n",
       "      <th>Jan</th>\n",
       "      <th>Feb</th>\n",
       "      <th>Mar</th>\n",
       "      <th>Apr</th>\n",
       "      <th>May</th>\n",
       "      <th>Jun</th>\n",
       "      <th>Jul</th>\n",
       "      <th>Aug</th>\n",
       "      <th>Sep</th>\n",
       "      <th>Oct</th>\n",
       "      <th>Nov</th>\n",
       "      <th>Dec</th>\n",
       "    </tr>\n",
       "  </thead>\n",
       "  <tbody>\n",
       "    <tr>\n",
       "      <th>count</th>\n",
       "      <td>4.000000</td>\n",
       "      <td>4.000000</td>\n",
       "      <td>4.000000</td>\n",
       "      <td>4.000000</td>\n",
       "      <td>4.000000</td>\n",
       "      <td>4.000000</td>\n",
       "      <td>4.000000</td>\n",
       "      <td>4.000000</td>\n",
       "      <td>4.000000</td>\n",
       "      <td>4.000000</td>\n",
       "      <td>4.000000</td>\n",
       "      <td>4.000000</td>\n",
       "    </tr>\n",
       "    <tr>\n",
       "      <th>mean</th>\n",
       "      <td>206.162500</td>\n",
       "      <td>216.627500</td>\n",
       "      <td>221.907500</td>\n",
       "      <td>219.120000</td>\n",
       "      <td>220.945000</td>\n",
       "      <td>218.460000</td>\n",
       "      <td>231.447500</td>\n",
       "      <td>237.127500</td>\n",
       "      <td>229.912500</td>\n",
       "      <td>242.940000</td>\n",
       "      <td>261.160000</td>\n",
       "      <td>265.110000</td>\n",
       "    </tr>\n",
       "    <tr>\n",
       "      <th>std</th>\n",
       "      <td>209.153601</td>\n",
       "      <td>219.784073</td>\n",
       "      <td>230.577057</td>\n",
       "      <td>220.208981</td>\n",
       "      <td>215.811172</td>\n",
       "      <td>215.632001</td>\n",
       "      <td>244.177106</td>\n",
       "      <td>270.132378</td>\n",
       "      <td>262.138194</td>\n",
       "      <td>283.338799</td>\n",
       "      <td>318.157033</td>\n",
       "      <td>328.636622</td>\n",
       "    </tr>\n",
       "    <tr>\n",
       "      <th>min</th>\n",
       "      <td>45.510000</td>\n",
       "      <td>43.080000</td>\n",
       "      <td>42.130000</td>\n",
       "      <td>43.470000</td>\n",
       "      <td>47.530000</td>\n",
       "      <td>45.960000</td>\n",
       "      <td>45.610000</td>\n",
       "      <td>45.510000</td>\n",
       "      <td>43.560000</td>\n",
       "      <td>48.700000</td>\n",
       "      <td>53.880000</td>\n",
       "      <td>55.400000</td>\n",
       "    </tr>\n",
       "    <tr>\n",
       "      <th>25%</th>\n",
       "      <td>94.357500</td>\n",
       "      <td>104.842500</td>\n",
       "      <td>105.010000</td>\n",
       "      <td>106.335000</td>\n",
       "      <td>108.452500</td>\n",
       "      <td>107.347500</td>\n",
       "      <td>105.407500</td>\n",
       "      <td>96.420000</td>\n",
       "      <td>95.490000</td>\n",
       "      <td>97.195000</td>\n",
       "      <td>102.090000</td>\n",
       "      <td>97.647500</td>\n",
       "    </tr>\n",
       "    <tr>\n",
       "      <th>50%</th>\n",
       "      <td>133.360000</td>\n",
       "      <td>142.720000</td>\n",
       "      <td>142.890000</td>\n",
       "      <td>146.255000</td>\n",
       "      <td>150.505000</td>\n",
       "      <td>147.480000</td>\n",
       "      <td>145.045000</td>\n",
       "      <td>133.080000</td>\n",
       "      <td>129.080000</td>\n",
       "      <td>129.735000</td>\n",
       "      <td>127.685000</td>\n",
       "      <td>124.845000</td>\n",
       "    </tr>\n",
       "    <tr>\n",
       "      <th>75%</th>\n",
       "      <td>245.165000</td>\n",
       "      <td>254.505000</td>\n",
       "      <td>259.787500</td>\n",
       "      <td>259.040000</td>\n",
       "      <td>262.997500</td>\n",
       "      <td>258.592500</td>\n",
       "      <td>271.085000</td>\n",
       "      <td>273.787500</td>\n",
       "      <td>263.502500</td>\n",
       "      <td>275.480000</td>\n",
       "      <td>286.755000</td>\n",
       "      <td>292.307500</td>\n",
       "    </tr>\n",
       "    <tr>\n",
       "      <th>max</th>\n",
       "      <td>512.420000</td>\n",
       "      <td>537.990000</td>\n",
       "      <td>559.720000</td>\n",
       "      <td>540.500000</td>\n",
       "      <td>535.240000</td>\n",
       "      <td>532.920000</td>\n",
       "      <td>590.090000</td>\n",
       "      <td>636.840000</td>\n",
       "      <td>617.930000</td>\n",
       "      <td>663.590000</td>\n",
       "      <td>735.390000</td>\n",
       "      <td>755.350000</td>\n",
       "    </tr>\n",
       "  </tbody>\n",
       "</table>\n",
       "</div>"
      ],
      "text/plain": [
       "              Jan         Feb         Mar         Apr         May         Jun  \\\n",
       "count    4.000000    4.000000    4.000000    4.000000    4.000000    4.000000   \n",
       "mean   206.162500  216.627500  221.907500  219.120000  220.945000  218.460000   \n",
       "std    209.153601  219.784073  230.577057  220.208981  215.811172  215.632001   \n",
       "min     45.510000   43.080000   42.130000   43.470000   47.530000   45.960000   \n",
       "25%     94.357500  104.842500  105.010000  106.335000  108.452500  107.347500   \n",
       "50%    133.360000  142.720000  142.890000  146.255000  150.505000  147.480000   \n",
       "75%    245.165000  254.505000  259.787500  259.040000  262.997500  258.592500   \n",
       "max    512.420000  537.990000  559.720000  540.500000  535.240000  532.920000   \n",
       "\n",
       "              Jul         Aug         Sep         Oct         Nov         Dec  \n",
       "count    4.000000    4.000000    4.000000    4.000000    4.000000    4.000000  \n",
       "mean   231.447500  237.127500  229.912500  242.940000  261.160000  265.110000  \n",
       "std    244.177106  270.132378  262.138194  283.338799  318.157033  328.636622  \n",
       "min     45.610000   45.510000   43.560000   48.700000   53.880000   55.400000  \n",
       "25%    105.407500   96.420000   95.490000   97.195000  102.090000   97.647500  \n",
       "50%    145.045000  133.080000  129.080000  129.735000  127.685000  124.845000  \n",
       "75%    271.085000  273.787500  263.502500  275.480000  286.755000  292.307500  \n",
       "max    590.090000  636.840000  617.930000  663.590000  735.390000  755.350000  "
      ]
     },
     "execution_count": 161,
     "metadata": {},
     "output_type": "execute_result"
    }
   ],
   "source": [
    "df_stocks.describe()"
   ]
  },
  {
   "cell_type": "code",
   "execution_count": 148,
   "metadata": {},
   "outputs": [
    {
     "data": {
      "text/plain": [
       "<matplotlib.axes._subplots.AxesSubplot at 0x11a2b0b00>"
      ]
     },
     "execution_count": 148,
     "metadata": {},
     "output_type": "execute_result"
    },
    {
     "data": {
      "image/png": "[encoded data removed]",
      "text/plain": [
       "<Figure size 432x288 with 1 Axes>"
      ]
     },
     "metadata": {},
     "output_type": "display_data"
    }
   ],
   "source": [
    "df_stocks.T.plot()"
   ]
  },
  {
   "cell_type": "code",
   "execution_count": null,
   "metadata": {
    "collapsed": true
   },
   "outputs": [],
   "source": []
  }
 ],
 "metadata": {
  "kernelspec": {
   "display_name": "Python 3",
   "language": "python",
   "name": "myenv"
  },
  "language_info": {
   "codemirror_mode": {
    "name": "ipython",
    "version": 3
   },
   "file_extension": ".py",
   "mimetype": "text/x-python",
   "name": "python",
   "nbconvert_exporter": "python",
   "pygments_lexer": "ipython3",
   "version": "3.6.4"
  }
 },
 "nbformat": 4,
 "nbformat_minor": 2
}
