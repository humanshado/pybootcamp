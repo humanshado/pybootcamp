{
 "cells": [
  {
   "cell_type": "markdown",
   "metadata": {},
   "source": [
    "Data Analysis with pandas - Stock Prices from morningstar"
   ]
  },
  {
   "cell_type": "code",
   "execution_count": 8,
   "metadata": {},
   "outputs": [
    {
     "data": {
      "image/png": "[encoded data removed]",
      "text/plain": [
       "<Figure size 432x288 with 1 Axes>"
      ]
     },
     "metadata": {},
     "output_type": "display_data"
    },
    {
     "data": {
      "text/html": [
       "<div>\n",
       "<style scoped>\n",
       "    .dataframe tbody tr th:only-of-type {\n",
       "        vertical-align: middle;\n",
       "    }\n",
       "\n",
       "    .dataframe tbody tr th {\n",
       "        vertical-align: top;\n",
       "    }\n",
       "\n",
       "    .dataframe thead th {\n",
       "        text-align: right;\n",
       "    }\n",
       "</style>\n",
       "<table border=\"1\" class=\"dataframe\">\n",
       "  <thead>\n",
       "    <tr style=\"text-align: right;\">\n",
       "      <th></th>\n",
       "      <th></th>\n",
       "      <th>Close</th>\n",
       "      <th>High</th>\n",
       "      <th>Low</th>\n",
       "      <th>Open</th>\n",
       "      <th>Volume</th>\n",
       "    </tr>\n",
       "    <tr>\n",
       "      <th>Symbol</th>\n",
       "      <th>Date</th>\n",
       "      <th></th>\n",
       "      <th></th>\n",
       "      <th></th>\n",
       "      <th></th>\n",
       "      <th></th>\n",
       "    </tr>\n",
       "  </thead>\n",
       "  <tbody>\n",
       "    <tr>\n",
       "      <th rowspan=\"5\" valign=\"top\">F</th>\n",
       "      <th>2010-01-01</th>\n",
       "      <td>10.00</td>\n",
       "      <td>10.06</td>\n",
       "      <td>9.9200</td>\n",
       "      <td>10.04</td>\n",
       "      <td>0</td>\n",
       "    </tr>\n",
       "    <tr>\n",
       "      <th>2010-01-04</th>\n",
       "      <td>10.28</td>\n",
       "      <td>10.28</td>\n",
       "      <td>10.0455</td>\n",
       "      <td>10.17</td>\n",
       "      <td>60855796</td>\n",
       "    </tr>\n",
       "    <tr>\n",
       "      <th>2010-01-05</th>\n",
       "      <td>10.96</td>\n",
       "      <td>11.24</td>\n",
       "      <td>10.4000</td>\n",
       "      <td>10.45</td>\n",
       "      <td>215620138</td>\n",
       "    </tr>\n",
       "    <tr>\n",
       "      <th>2010-01-06</th>\n",
       "      <td>11.37</td>\n",
       "      <td>11.46</td>\n",
       "      <td>11.1300</td>\n",
       "      <td>11.21</td>\n",
       "      <td>200070554</td>\n",
       "    </tr>\n",
       "    <tr>\n",
       "      <th>2010-01-07</th>\n",
       "      <td>11.66</td>\n",
       "      <td>11.69</td>\n",
       "      <td>11.3200</td>\n",
       "      <td>11.46</td>\n",
       "      <td>130201626</td>\n",
       "    </tr>\n",
       "  </tbody>\n",
       "</table>\n",
       "</div>"
      ],
      "text/plain": [
       "                   Close   High      Low   Open     Volume\n",
       "Symbol Date                                               \n",
       "F      2010-01-01  10.00  10.06   9.9200  10.04          0\n",
       "       2010-01-04  10.28  10.28  10.0455  10.17   60855796\n",
       "       2010-01-05  10.96  11.24  10.4000  10.45  215620138\n",
       "       2010-01-06  11.37  11.46  11.1300  11.21  200070554\n",
       "       2010-01-07  11.66  11.69  11.3200  11.46  130201626"
      ]
     },
     "execution_count": 8,
     "metadata": {},
     "output_type": "execute_result"
    }
   ],
   "source": [
    "import pandas as pd\n",
    "from datetime import datetime\n",
    "import pandas_datareader as pdr\n",
    "import matplotlib.pyplot as plt\n",
    "from matplotlib import style\n",
    "\n",
    "style.use('ggplot')\n",
    "\n",
    "start = datetime(2010,1,1)\n",
    "end = datetime(2015,1,1)\n",
    "\n",
    "df = pdr.DataReader(\"F\", \"morningstar\", start, end)\n",
    "\n",
    "df['Close'].plot()\n",
    "plt.show()\n",
    "\n",
    "df.head()"
   ]
  },
  {
   "cell_type": "code",
   "execution_count": 10,
   "metadata": {},
   "outputs": [
    {
     "data": {
      "text/html": [
       "<div>\n",
       "<style scoped>\n",
       "    .dataframe tbody tr th:only-of-type {\n",
       "        vertical-align: middle;\n",
       "    }\n",
       "\n",
       "    .dataframe tbody tr th {\n",
       "        vertical-align: top;\n",
       "    }\n",
       "\n",
       "    .dataframe thead th {\n",
       "        text-align: right;\n",
       "    }\n",
       "</style>\n",
       "<table border=\"1\" class=\"dataframe\">\n",
       "  <thead>\n",
       "    <tr style=\"text-align: right;\">\n",
       "      <th></th>\n",
       "      <th>Short Volume</th>\n",
       "      <th>Total Volume</th>\n",
       "    </tr>\n",
       "    <tr>\n",
       "      <th>Date</th>\n",
       "      <th></th>\n",
       "      <th></th>\n",
       "    </tr>\n",
       "  </thead>\n",
       "  <tbody>\n",
       "    <tr>\n",
       "      <th>2014-04-03</th>\n",
       "      <td>90026.0</td>\n",
       "      <td>169784.0</td>\n",
       "    </tr>\n",
       "    <tr>\n",
       "      <th>2014-04-04</th>\n",
       "      <td>87483.0</td>\n",
       "      <td>233660.0</td>\n",
       "    </tr>\n",
       "    <tr>\n",
       "      <th>2014-04-07</th>\n",
       "      <td>50609.0</td>\n",
       "      <td>132391.0</td>\n",
       "    </tr>\n",
       "    <tr>\n",
       "      <th>2014-04-08</th>\n",
       "      <td>101469.0</td>\n",
       "      <td>205033.0</td>\n",
       "    </tr>\n",
       "    <tr>\n",
       "      <th>2014-04-09</th>\n",
       "      <td>66787.0</td>\n",
       "      <td>137549.0</td>\n",
       "    </tr>\n",
       "  </tbody>\n",
       "</table>\n",
       "</div>"
      ],
      "text/plain": [
       "            Short Volume  Total Volume\n",
       "Date                                  \n",
       "2014-04-03       90026.0      169784.0\n",
       "2014-04-04       87483.0      233660.0\n",
       "2014-04-07       50609.0      132391.0\n",
       "2014-04-08      101469.0      205033.0\n",
       "2014-04-09       66787.0      137549.0"
      ]
     },
     "execution_count": 10,
     "metadata": {},
     "output_type": "execute_result"
    }
   ],
   "source": [
    "import pandas as pd\n",
    "import quandl\n",
    "\n",
    "API_Key = 'UprTtDiwAemk9s8aC_2H'\n",
    "    \n",
    "df = quandl.get(\"ODA/POILAPSP_USD\", authtoken=API_Key)\n",
    "df.head()"
   ]
  },
  {
   "cell_type": "code",
   "execution_count": null,
   "metadata": {
    "collapsed": true
   },
   "outputs": [],
   "source": []
  }
 ],
 "metadata": {
  "kernelspec": {
   "display_name": "Python 2",
   "language": "python",
   "name": "python2"
  },
  "language_info": {
   "codemirror_mode": {
    "name": "ipython",
    "version": 2
   },
   "file_extension": ".py",
   "mimetype": "text/x-python",
   "name": "python",
   "nbconvert_exporter": "python",
   "pygments_lexer": "ipython2",
   "version": "2.7.14"
  }
 },
 "nbformat": 4,
 "nbformat_minor": 2
}
